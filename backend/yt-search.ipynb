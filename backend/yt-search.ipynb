{
 "cells": [
  {
   "cell_type": "code",
   "execution_count": 1,
   "id": "beeb5a4e-01af-4c1c-a7ac-3fbc135b4b2b",
   "metadata": {},
   "outputs": [
    {
     "name": "stdout",
     "output_type": "stream",
     "text": [
      "Requirement already satisfied: datasets in c:\\users\\dyota\\anaconda3\\envs\\invictus2024\\lib\\site-packages (2.16.1)\n",
      "Requirement already satisfied: sentence-transformers in c:\\users\\dyota\\anaconda3\\envs\\invictus2024\\lib\\site-packages (2.2.2)\n",
      "Requirement already satisfied: pinecone-client in c:\\users\\dyota\\anaconda3\\envs\\invictus2024\\lib\\site-packages (3.0.1)\n",
      "Requirement already satisfied: tqdm in c:\\users\\dyota\\anaconda3\\envs\\invictus2024\\lib\\site-packages (4.66.1)\n",
      "Requirement already satisfied: filelock in c:\\users\\dyota\\anaconda3\\envs\\invictus2024\\lib\\site-packages (from datasets) (3.13.1)\n",
      "Requirement already satisfied: numpy>=1.17 in c:\\users\\dyota\\anaconda3\\envs\\invictus2024\\lib\\site-packages (from datasets) (1.26.3)\n",
      "Requirement already satisfied: pyarrow>=8.0.0 in c:\\users\\dyota\\anaconda3\\envs\\invictus2024\\lib\\site-packages (from datasets) (11.0.0)\n",
      "Requirement already satisfied: pyarrow-hotfix in c:\\users\\dyota\\anaconda3\\envs\\invictus2024\\lib\\site-packages (from datasets) (0.6)\n",
      "Requirement already satisfied: dill<0.3.8,>=0.3.0 in c:\\users\\dyota\\anaconda3\\envs\\invictus2024\\lib\\site-packages (from datasets) (0.3.6)\n",
      "Requirement already satisfied: pandas in c:\\users\\dyota\\anaconda3\\envs\\invictus2024\\lib\\site-packages (from datasets) (2.1.4)\n",
      "Requirement already satisfied: requests>=2.19.0 in c:\\users\\dyota\\anaconda3\\envs\\invictus2024\\lib\\site-packages (from datasets) (2.31.0)\n",
      "Requirement already satisfied: xxhash in c:\\users\\dyota\\anaconda3\\envs\\invictus2024\\lib\\site-packages (from datasets) (2.0.2)\n",
      "Requirement already satisfied: multiprocess in c:\\users\\dyota\\anaconda3\\envs\\invictus2024\\lib\\site-packages (from datasets) (0.70.14)\n",
      "Requirement already satisfied: fsspec<=2023.10.0,>=2023.1.0 in c:\\users\\dyota\\anaconda3\\envs\\invictus2024\\lib\\site-packages (from fsspec[http]<=2023.10.0,>=2023.1.0->datasets) (2023.10.0)\n",
      "Requirement already satisfied: aiohttp in c:\\users\\dyota\\anaconda3\\envs\\invictus2024\\lib\\site-packages (from datasets) (3.9.0)\n",
      "Requirement already satisfied: huggingface-hub>=0.19.4 in c:\\users\\dyota\\anaconda3\\envs\\invictus2024\\lib\\site-packages (from datasets) (0.20.2)\n",
      "Requirement already satisfied: packaging in c:\\users\\dyota\\anaconda3\\envs\\invictus2024\\lib\\site-packages (from datasets) (23.1)\n",
      "Requirement already satisfied: pyyaml>=5.1 in c:\\users\\dyota\\anaconda3\\envs\\invictus2024\\lib\\site-packages (from datasets) (6.0.1)\n",
      "Requirement already satisfied: transformers<5.0.0,>=4.6.0 in c:\\users\\dyota\\anaconda3\\envs\\invictus2024\\lib\\site-packages (from sentence-transformers) (4.36.2)\n",
      "Requirement already satisfied: torch>=1.6.0 in c:\\users\\dyota\\anaconda3\\envs\\invictus2024\\lib\\site-packages (from sentence-transformers) (2.1.2)\n",
      "Requirement already satisfied: torchvision in c:\\users\\dyota\\anaconda3\\envs\\invictus2024\\lib\\site-packages (from sentence-transformers) (0.16.2)\n",
      "Requirement already satisfied: scikit-learn in c:\\users\\dyota\\anaconda3\\envs\\invictus2024\\lib\\site-packages (from sentence-transformers) (1.4.0)\n",
      "Requirement already satisfied: scipy in c:\\users\\dyota\\anaconda3\\envs\\invictus2024\\lib\\site-packages (from sentence-transformers) (1.11.4)\n",
      "Requirement already satisfied: nltk in c:\\users\\dyota\\anaconda3\\envs\\invictus2024\\lib\\site-packages (from sentence-transformers) (3.8.1)\n",
      "Requirement already satisfied: sentencepiece in c:\\users\\dyota\\anaconda3\\envs\\invictus2024\\lib\\site-packages (from sentence-transformers) (0.1.99)\n",
      "Requirement already satisfied: certifi>=2019.11.17 in c:\\users\\dyota\\anaconda3\\envs\\invictus2024\\lib\\site-packages (from pinecone-client) (2023.11.17)\n",
      "Requirement already satisfied: typing-extensions>=3.7.4 in c:\\users\\dyota\\anaconda3\\envs\\invictus2024\\lib\\site-packages (from pinecone-client) (4.9.0)\n",
      "Requirement already satisfied: urllib3>=1.26.0 in c:\\users\\dyota\\anaconda3\\envs\\invictus2024\\lib\\site-packages (from pinecone-client) (1.26.18)\n",
      "Requirement already satisfied: colorama in c:\\users\\dyota\\anaconda3\\envs\\invictus2024\\lib\\site-packages (from tqdm) (0.4.6)\n",
      "Requirement already satisfied: attrs>=17.3.0 in c:\\users\\dyota\\anaconda3\\envs\\invictus2024\\lib\\site-packages (from aiohttp->datasets) (23.1.0)\n",
      "Requirement already satisfied: multidict<7.0,>=4.5 in c:\\users\\dyota\\anaconda3\\envs\\invictus2024\\lib\\site-packages (from aiohttp->datasets) (6.0.4)\n",
      "Requirement already satisfied: yarl<2.0,>=1.0 in c:\\users\\dyota\\anaconda3\\envs\\invictus2024\\lib\\site-packages (from aiohttp->datasets) (1.9.3)\n",
      "Requirement already satisfied: frozenlist>=1.1.1 in c:\\users\\dyota\\anaconda3\\envs\\invictus2024\\lib\\site-packages (from aiohttp->datasets) (1.4.0)\n",
      "Requirement already satisfied: aiosignal>=1.1.2 in c:\\users\\dyota\\anaconda3\\envs\\invictus2024\\lib\\site-packages (from aiohttp->datasets) (1.2.0)\n",
      "Requirement already satisfied: charset-normalizer<4,>=2 in c:\\users\\dyota\\anaconda3\\envs\\invictus2024\\lib\\site-packages (from requests>=2.19.0->datasets) (2.0.4)\n",
      "Requirement already satisfied: idna<4,>=2.5 in c:\\users\\dyota\\anaconda3\\envs\\invictus2024\\lib\\site-packages (from requests>=2.19.0->datasets) (3.4)\n",
      "Requirement already satisfied: sympy in c:\\users\\dyota\\anaconda3\\envs\\invictus2024\\lib\\site-packages (from torch>=1.6.0->sentence-transformers) (1.12)\n",
      "Requirement already satisfied: networkx in c:\\users\\dyota\\anaconda3\\envs\\invictus2024\\lib\\site-packages (from torch>=1.6.0->sentence-transformers) (3.2.1)\n",
      "Requirement already satisfied: jinja2 in c:\\users\\dyota\\anaconda3\\envs\\invictus2024\\lib\\site-packages (from torch>=1.6.0->sentence-transformers) (3.1.2)\n",
      "Requirement already satisfied: regex!=2019.12.17 in c:\\users\\dyota\\anaconda3\\envs\\invictus2024\\lib\\site-packages (from transformers<5.0.0,>=4.6.0->sentence-transformers) (2023.12.25)\n",
      "Requirement already satisfied: tokenizers<0.19,>=0.14 in c:\\users\\dyota\\anaconda3\\envs\\invictus2024\\lib\\site-packages (from transformers<5.0.0,>=4.6.0->sentence-transformers) (0.15.0)\n",
      "Requirement already satisfied: safetensors>=0.3.1 in c:\\users\\dyota\\anaconda3\\envs\\invictus2024\\lib\\site-packages (from transformers<5.0.0,>=4.6.0->sentence-transformers) (0.4.1)\n",
      "Requirement already satisfied: click in c:\\users\\dyota\\anaconda3\\envs\\invictus2024\\lib\\site-packages (from nltk->sentence-transformers) (8.1.7)\n",
      "Requirement already satisfied: joblib in c:\\users\\dyota\\anaconda3\\envs\\invictus2024\\lib\\site-packages (from nltk->sentence-transformers) (1.3.2)\n",
      "Requirement already satisfied: python-dateutil>=2.8.2 in c:\\users\\dyota\\anaconda3\\envs\\invictus2024\\lib\\site-packages (from pandas->datasets) (2.8.2)\n",
      "Requirement already satisfied: pytz>=2020.1 in c:\\users\\dyota\\anaconda3\\envs\\invictus2024\\lib\\site-packages (from pandas->datasets) (2023.3.post1)\n",
      "Requirement already satisfied: tzdata>=2022.1 in c:\\users\\dyota\\anaconda3\\envs\\invictus2024\\lib\\site-packages (from pandas->datasets) (2023.3)\n",
      "Requirement already satisfied: threadpoolctl>=2.0.0 in c:\\users\\dyota\\anaconda3\\envs\\invictus2024\\lib\\site-packages (from scikit-learn->sentence-transformers) (3.2.0)\n",
      "Requirement already satisfied: pillow!=8.3.*,>=5.3.0 in c:\\users\\dyota\\anaconda3\\envs\\invictus2024\\lib\\site-packages (from torchvision->sentence-transformers) (9.4.0)\n",
      "Requirement already satisfied: six>=1.5 in c:\\users\\dyota\\anaconda3\\envs\\invictus2024\\lib\\site-packages (from python-dateutil>=2.8.2->pandas->datasets) (1.16.0)\n",
      "Requirement already satisfied: MarkupSafe>=2.0 in c:\\users\\dyota\\anaconda3\\envs\\invictus2024\\lib\\site-packages (from jinja2->torch>=1.6.0->sentence-transformers) (2.1.3)\n",
      "Requirement already satisfied: mpmath>=0.19 in c:\\users\\dyota\\anaconda3\\envs\\invictus2024\\lib\\site-packages (from sympy->torch>=1.6.0->sentence-transformers) (1.3.0)\n"
     ]
    }
   ],
   "source": [
    "!pip install -U datasets sentence-transformers pinecone-client tqdm"
   ]
  },
  {
   "cell_type": "code",
   "execution_count": 2,
   "id": "b2ece2eb-be83-4b5f-9e61-ddab7fb9bb35",
   "metadata": {},
   "outputs": [
    {
     "data": {
      "text/plain": [
       "Dataset({\n",
       "    features: ['video_id', 'text', 'start_second', 'end_second', 'url', 'title', 'thumbnail'],\n",
       "    num_rows: 11298\n",
       "})"
      ]
     },
     "execution_count": 2,
     "metadata": {},
     "output_type": "execute_result"
    }
   ],
   "source": [
    "from datasets import load_dataset\n",
    "\n",
    "ytt = load_dataset(\n",
    "    \"pinecone/yt-transcriptions\",\n",
    "    split=\"train\",\n",
    "    revision=\"926a45\"\n",
    ")\n",
    "ytt"
   ]
  },
  {
   "cell_type": "code",
   "execution_count": 3,
   "id": "66432bcd-09d1-4ae2-8357-d46f1daced83",
   "metadata": {},
   "outputs": [
    {
     "name": "stdout",
     "output_type": "stream",
     "text": [
      "{'video_id': 'ZPewmEu7644', 'text': \" hi this is Jeff Dean welcome to applications of deep neural networks of Washington University in this video we're going to look at how we can use ganz to generate additional training data for the latest on my a I course and projects click subscribe in the bell next to it to be notified of every new video Dan's have a wide array of uses beyond just the face generation that you\", 'start_second': 0, 'end_second': 20, 'url': 'https://www.youtube.com/watch?v=ZPewmEu7644&t=0s', 'title': 'GANS for Semi-Supervised Learning in Keras (7.4)', 'thumbnail': 'https://i.ytimg.com/vi/ZPewmEu7644/maxresdefault.jpg'}\n"
     ]
    }
   ],
   "source": [
    "for x in ytt:\n",
    "    print(x)\n",
    "    break"
   ]
  },
  {
   "cell_type": "code",
   "execution_count": 4,
   "id": "5ab759c0-b801-4be7-b5ac-a4bca8b7fc03",
   "metadata": {},
   "outputs": [
    {
     "data": {
      "text/plain": [
       "SentenceTransformer(\n",
       "  (0): Transformer({'max_seq_length': 128, 'do_lower_case': False}) with Transformer model: MPNetModel \n",
       "  (1): Pooling({'word_embedding_dimension': 768, 'pooling_mode_cls_token': False, 'pooling_mode_mean_tokens': True, 'pooling_mode_max_tokens': False, 'pooling_mode_mean_sqrt_len_tokens': False})\n",
       "  (2): Normalize()\n",
       ")"
      ]
     },
     "execution_count": 4,
     "metadata": {},
     "output_type": "execute_result"
    }
   ],
   "source": [
    "from sentence_transformers import SentenceTransformer\n",
    "import torch\n",
    "\n",
    "device = 'cuda' if torch.cuda.is_available() else 'cpu'\n",
    "\n",
    "retriever = SentenceTransformer(\n",
    "    'flax-sentence-embeddings/all_datasets_v3_mpnet-base'\n",
    ")\n",
    "retriever.to(device)"
   ]
  },
  {
   "cell_type": "code",
   "execution_count": 5,
   "id": "075c9695-fe5a-4308-91b1-f42a79ced016",
   "metadata": {},
   "outputs": [
    {
     "data": {
      "text/plain": [
       "768"
      ]
     },
     "execution_count": 5,
     "metadata": {},
     "output_type": "execute_result"
    }
   ],
   "source": [
    "embed_dim = retriever.get_sentence_embedding_dimension()\n",
    "embed_dim"
   ]
  },
  {
   "cell_type": "code",
   "execution_count": 9,
   "id": "5c250b63-311b-40e9-922d-ea610c825091",
   "metadata": {},
   "outputs": [],
   "source": [
    "from pinecone import Pinecone\n",
    "\n",
    "# get api key from app.pinecone.io\n",
    "pinecone = Pinecone(\n",
    "    api_key=\"55e1c7a7-6374-4a46-9650-b075f74e2158\",\n",
    "    environment=\"us-west1-gcp\"\n",
    ")\n",
    "\n",
    "index = pinecone.Index(\"youtube-search\")"
   ]
  },
  {
   "cell_type": "code",
   "execution_count": 24,
   "id": "69802c41-7dce-4fa2-b0e6-3e26db4280ad",
   "metadata": {},
   "outputs": [],
   "source": [
    "query = \"what is tranformers\"\n",
    "\n",
    "xq = retriever.encode([query]).tolist()"
   ]
  },
  {
   "cell_type": "code",
   "execution_count": 25,
   "id": "0bf83e66-3c18-4e32-8a5b-0ae9788d70bf",
   "metadata": {},
   "outputs": [
    {
     "name": "stdout",
     "output_type": "stream",
     "text": [
      "https://www.youtube.com/watch?v=-9evrZnBorM&t=101s\n",
      "---\n",
      "https://www.youtube.com/watch?v=Uumd2zOOz60&t=1164s\n",
      "---\n",
      "https://www.youtube.com/watch?v=H5vpBCLo74U&t=1255s\n",
      "---\n",
      "https://www.youtube.com/watch?v=T35ba_VXkMY&t=1246s\n",
      "---\n",
      "https://www.youtube.com/watch?v=H5vpBCLo74U&t=1438s\n",
      "---\n",
      "https://www.youtube.com/watch?v=T35ba_VXkMY&t=1160s\n",
      "---\n",
      "https://www.youtube.com/watch?v=Uumd2zOOz60&t=114s\n",
      "---\n",
      "https://www.youtube.com/watch?v=H5vpBCLo74U&t=1470s\n",
      "---\n",
      "https://www.youtube.com/watch?v=LfUsGv-ESbc&t=326s\n",
      "---\n",
      "https://www.youtube.com/watch?v=hv3UO3G0Ofo&t=1025s\n",
      "---\n",
      "https://www.youtube.com/watch?v=hv3UO3G0Ofo&t=989s\n",
      "---\n",
      "https://www.youtube.com/watch?v=Uumd2zOOz60&t=591s\n",
      "---\n",
      "https://www.youtube.com/watch?v=T35ba_VXkMY&t=0s\n",
      "---\n",
      "https://www.youtube.com/watch?v=T35ba_VXkMY&t=1802s\n",
      "---\n",
      "https://www.youtube.com/watch?v=T35ba_VXkMY&t=1217s\n",
      "---\n",
      "https://www.youtube.com/watch?v=BnpB3GrpsfM&t=5124s\n",
      "---\n",
      "https://www.youtube.com/watch?v=T35ba_VXkMY&t=1851s\n",
      "---\n",
      "https://www.youtube.com/watch?v=T35ba_VXkMY&t=1377s\n",
      "---\n",
      "https://www.youtube.com/watch?v=S27pHKBEp30&t=550s\n",
      "---\n",
      "https://www.youtube.com/watch?v=T35ba_VXkMY&t=1191s\n",
      "---\n"
     ]
    }
   ],
   "source": [
    "xc = index.query(vector=xq, top_k=20,\n",
    "                 include_metadata=True)\n",
    "for context in xc['matches']:\n",
    "    print(context['metadata']['url'], end=\"\\n---\\n\")"
   ]
  },
  {
   "cell_type": "code",
   "execution_count": 20,
   "id": "4edf7ecc-c529-4c96-9376-d13820af33d7",
   "metadata": {},
   "outputs": [
    {
     "name": "stdout",
     "output_type": "stream",
     "text": [
      "{'matches': [{'id': 'BnpB3GrpsfM-6551',\n",
      "              'metadata': {'end_second': 6573.0,\n",
      "                           'start_second': 6551.0,\n",
      "                           'text': \" performance on a data set so that's quite \"\n",
      "                                   'exciting and in the limit they show that '\n",
      "                                   'for instance in Elektra a small electrical '\n",
      "                                   'model so quite a lot smaller than even a '\n",
      "                                   'GPT one by exploiting bidirectionality in '\n",
      "                                   'this dense training function can actually '\n",
      "                                   'outperform GPT one in two days on a single '\n",
      "                                   'be 100 whereas gbg1 was 25 days on 8p 6000 '\n",
      "                                   'partially this is because I have P',\n",
      "                           'thumbnail': 'https://i.ytimg.com/vi/BnpB3GrpsfM/maxresdefault.jpg',\n",
      "                           'title': 'L11 Language Models -- guest instructor: '\n",
      "                                    'Alec Radford (OpenAI) --- Deep '\n",
      "                                    'Unsupervised Learning SP20',\n",
      "                           'url': 'https://www.youtube.com/watch?v=BnpB3GrpsfM&t=6551s',\n",
      "                           'video_id': 'BnpB3GrpsfM'},\n",
      "              'score': 0.471227765,\n",
      "              'values': []}],\n",
      " 'namespace': '',\n",
      " 'usage': {'read_units': 6}}\n"
     ]
    }
   ],
   "source": [
    "print(xc)"
   ]
  },
  {
   "cell_type": "code",
   "execution_count": null,
   "id": "c7047290-6617-4dc5-aec6-13e48877e3b6",
   "metadata": {},
   "outputs": [],
   "source": []
  }
 ],
 "metadata": {
  "kernelspec": {
   "display_name": "Python 3 (ipykernel)",
   "language": "python",
   "name": "python3"
  },
  "language_info": {
   "codemirror_mode": {
    "name": "ipython",
    "version": 3
   },
   "file_extension": ".py",
   "mimetype": "text/x-python",
   "name": "python",
   "nbconvert_exporter": "python",
   "pygments_lexer": "ipython3",
   "version": "3.11.7"
  }
 },
 "nbformat": 4,
 "nbformat_minor": 5
}
