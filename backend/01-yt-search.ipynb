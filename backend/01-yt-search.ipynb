{
 "cells": [
  {
   "attachments": {},
   "cell_type": "markdown",
   "id": "p1dCsisKaCPx",
   "metadata": {
    "id": "p1dCsisKaCPx"
   },
   "source": [
    "[![Open In Colab](https://colab.research.google.com/assets/colab-badge.svg)](https://colab.research.google.com/github/pinecone-io/examples/blob/master/learn/search/semantic-search/yt-search/01-yt-search.ipynb) [![Open nbviewer](https://raw.githubusercontent.com/pinecone-io/examples/master/assets/nbviewer-shield.svg)](https://nbviewer.org/github/pinecone-io/examples/blob/master/learn/search/semantic-search/yt-search/01-yt-search.ipynb)\n",
    "\n",
    "Install prerequisite packages."
   ]
  },
  {
   "cell_type": "code",
   "execution_count": 1,
   "id": "KtsIcBFOZ4Wc",
   "metadata": {
    "id": "KtsIcBFOZ4Wc"
   },
   "outputs": [
    {
     "name": "stdout",
     "output_type": "stream",
     "text": [
      "Requirement already satisfied: datasets in c:\\users\\dyota\\anaconda3\\envs\\invictus2024\\lib\\site-packages (2.16.1)\n",
      "Requirement already satisfied: sentence-transformers in c:\\users\\dyota\\anaconda3\\envs\\invictus2024\\lib\\site-packages (2.2.2)\n",
      "Requirement already satisfied: pinecone-client in c:\\users\\dyota\\anaconda3\\envs\\invictus2024\\lib\\site-packages (3.0.1)\n",
      "Requirement already satisfied: tqdm in c:\\users\\dyota\\anaconda3\\envs\\invictus2024\\lib\\site-packages (4.66.1)\n",
      "Requirement already satisfied: filelock in c:\\users\\dyota\\anaconda3\\envs\\invictus2024\\lib\\site-packages (from datasets) (3.13.1)\n",
      "Requirement already satisfied: numpy>=1.17 in c:\\users\\dyota\\anaconda3\\envs\\invictus2024\\lib\\site-packages (from datasets) (1.26.3)\n",
      "Requirement already satisfied: pyarrow>=8.0.0 in c:\\users\\dyota\\anaconda3\\envs\\invictus2024\\lib\\site-packages (from datasets) (11.0.0)\n",
      "Requirement already satisfied: pyarrow-hotfix in c:\\users\\dyota\\anaconda3\\envs\\invictus2024\\lib\\site-packages (from datasets) (0.6)\n",
      "Requirement already satisfied: dill<0.3.8,>=0.3.0 in c:\\users\\dyota\\anaconda3\\envs\\invictus2024\\lib\\site-packages (from datasets) (0.3.6)\n",
      "Requirement already satisfied: pandas in c:\\users\\dyota\\anaconda3\\envs\\invictus2024\\lib\\site-packages (from datasets) (2.1.4)\n",
      "Requirement already satisfied: requests>=2.19.0 in c:\\users\\dyota\\anaconda3\\envs\\invictus2024\\lib\\site-packages (from datasets) (2.31.0)\n",
      "Requirement already satisfied: xxhash in c:\\users\\dyota\\anaconda3\\envs\\invictus2024\\lib\\site-packages (from datasets) (2.0.2)\n",
      "Requirement already satisfied: multiprocess in c:\\users\\dyota\\anaconda3\\envs\\invictus2024\\lib\\site-packages (from datasets) (0.70.14)\n",
      "Requirement already satisfied: fsspec<=2023.10.0,>=2023.1.0 in c:\\users\\dyota\\anaconda3\\envs\\invictus2024\\lib\\site-packages (from fsspec[http]<=2023.10.0,>=2023.1.0->datasets) (2023.10.0)\n",
      "Requirement already satisfied: aiohttp in c:\\users\\dyota\\anaconda3\\envs\\invictus2024\\lib\\site-packages (from datasets) (3.9.0)\n",
      "Requirement already satisfied: huggingface-hub>=0.19.4 in c:\\users\\dyota\\anaconda3\\envs\\invictus2024\\lib\\site-packages (from datasets) (0.20.2)\n",
      "Requirement already satisfied: packaging in c:\\users\\dyota\\anaconda3\\envs\\invictus2024\\lib\\site-packages (from datasets) (23.1)\n",
      "Requirement already satisfied: pyyaml>=5.1 in c:\\users\\dyota\\anaconda3\\envs\\invictus2024\\lib\\site-packages (from datasets) (6.0.1)\n",
      "Requirement already satisfied: transformers<5.0.0,>=4.6.0 in c:\\users\\dyota\\anaconda3\\envs\\invictus2024\\lib\\site-packages (from sentence-transformers) (4.36.2)\n",
      "Requirement already satisfied: torch>=1.6.0 in c:\\users\\dyota\\anaconda3\\envs\\invictus2024\\lib\\site-packages (from sentence-transformers) (2.1.2)\n",
      "Requirement already satisfied: torchvision in c:\\users\\dyota\\anaconda3\\envs\\invictus2024\\lib\\site-packages (from sentence-transformers) (0.16.2)\n",
      "Requirement already satisfied: scikit-learn in c:\\users\\dyota\\anaconda3\\envs\\invictus2024\\lib\\site-packages (from sentence-transformers) (1.4.0)\n",
      "Requirement already satisfied: scipy in c:\\users\\dyota\\anaconda3\\envs\\invictus2024\\lib\\site-packages (from sentence-transformers) (1.11.4)\n",
      "Requirement already satisfied: nltk in c:\\users\\dyota\\anaconda3\\envs\\invictus2024\\lib\\site-packages (from sentence-transformers) (3.8.1)\n",
      "Requirement already satisfied: sentencepiece in c:\\users\\dyota\\anaconda3\\envs\\invictus2024\\lib\\site-packages (from sentence-transformers) (0.1.99)\n",
      "Requirement already satisfied: certifi>=2019.11.17 in c:\\users\\dyota\\anaconda3\\envs\\invictus2024\\lib\\site-packages (from pinecone-client) (2023.11.17)\n",
      "Requirement already satisfied: typing-extensions>=3.7.4 in c:\\users\\dyota\\anaconda3\\envs\\invictus2024\\lib\\site-packages (from pinecone-client) (4.9.0)\n",
      "Requirement already satisfied: urllib3>=1.26.0 in c:\\users\\dyota\\anaconda3\\envs\\invictus2024\\lib\\site-packages (from pinecone-client) (1.26.18)\n",
      "Requirement already satisfied: colorama in c:\\users\\dyota\\anaconda3\\envs\\invictus2024\\lib\\site-packages (from tqdm) (0.4.6)\n",
      "Requirement already satisfied: attrs>=17.3.0 in c:\\users\\dyota\\anaconda3\\envs\\invictus2024\\lib\\site-packages (from aiohttp->datasets) (23.1.0)\n",
      "Requirement already satisfied: multidict<7.0,>=4.5 in c:\\users\\dyota\\anaconda3\\envs\\invictus2024\\lib\\site-packages (from aiohttp->datasets) (6.0.4)\n",
      "Requirement already satisfied: yarl<2.0,>=1.0 in c:\\users\\dyota\\anaconda3\\envs\\invictus2024\\lib\\site-packages (from aiohttp->datasets) (1.9.3)\n",
      "Requirement already satisfied: frozenlist>=1.1.1 in c:\\users\\dyota\\anaconda3\\envs\\invictus2024\\lib\\site-packages (from aiohttp->datasets) (1.4.0)\n",
      "Requirement already satisfied: aiosignal>=1.1.2 in c:\\users\\dyota\\anaconda3\\envs\\invictus2024\\lib\\site-packages (from aiohttp->datasets) (1.2.0)\n",
      "Requirement already satisfied: charset-normalizer<4,>=2 in c:\\users\\dyota\\anaconda3\\envs\\invictus2024\\lib\\site-packages (from requests>=2.19.0->datasets) (2.0.4)\n",
      "Requirement already satisfied: idna<4,>=2.5 in c:\\users\\dyota\\anaconda3\\envs\\invictus2024\\lib\\site-packages (from requests>=2.19.0->datasets) (3.4)\n",
      "Requirement already satisfied: sympy in c:\\users\\dyota\\anaconda3\\envs\\invictus2024\\lib\\site-packages (from torch>=1.6.0->sentence-transformers) (1.12)\n",
      "Requirement already satisfied: networkx in c:\\users\\dyota\\anaconda3\\envs\\invictus2024\\lib\\site-packages (from torch>=1.6.0->sentence-transformers) (3.2.1)\n",
      "Requirement already satisfied: jinja2 in c:\\users\\dyota\\anaconda3\\envs\\invictus2024\\lib\\site-packages (from torch>=1.6.0->sentence-transformers) (3.1.2)\n",
      "Requirement already satisfied: regex!=2019.12.17 in c:\\users\\dyota\\anaconda3\\envs\\invictus2024\\lib\\site-packages (from transformers<5.0.0,>=4.6.0->sentence-transformers) (2023.12.25)\n",
      "Requirement already satisfied: tokenizers<0.19,>=0.14 in c:\\users\\dyota\\anaconda3\\envs\\invictus2024\\lib\\site-packages (from transformers<5.0.0,>=4.6.0->sentence-transformers) (0.15.0)\n",
      "Requirement already satisfied: safetensors>=0.3.1 in c:\\users\\dyota\\anaconda3\\envs\\invictus2024\\lib\\site-packages (from transformers<5.0.0,>=4.6.0->sentence-transformers) (0.4.1)\n",
      "Requirement already satisfied: click in c:\\users\\dyota\\anaconda3\\envs\\invictus2024\\lib\\site-packages (from nltk->sentence-transformers) (8.1.7)\n",
      "Requirement already satisfied: joblib in c:\\users\\dyota\\anaconda3\\envs\\invictus2024\\lib\\site-packages (from nltk->sentence-transformers) (1.3.2)\n",
      "Requirement already satisfied: python-dateutil>=2.8.2 in c:\\users\\dyota\\anaconda3\\envs\\invictus2024\\lib\\site-packages (from pandas->datasets) (2.8.2)\n",
      "Requirement already satisfied: pytz>=2020.1 in c:\\users\\dyota\\anaconda3\\envs\\invictus2024\\lib\\site-packages (from pandas->datasets) (2023.3.post1)\n",
      "Requirement already satisfied: tzdata>=2022.1 in c:\\users\\dyota\\anaconda3\\envs\\invictus2024\\lib\\site-packages (from pandas->datasets) (2023.3)\n",
      "Requirement already satisfied: threadpoolctl>=2.0.0 in c:\\users\\dyota\\anaconda3\\envs\\invictus2024\\lib\\site-packages (from scikit-learn->sentence-transformers) (3.2.0)\n",
      "Requirement already satisfied: pillow!=8.3.*,>=5.3.0 in c:\\users\\dyota\\anaconda3\\envs\\invictus2024\\lib\\site-packages (from torchvision->sentence-transformers) (9.4.0)\n",
      "Requirement already satisfied: six>=1.5 in c:\\users\\dyota\\anaconda3\\envs\\invictus2024\\lib\\site-packages (from python-dateutil>=2.8.2->pandas->datasets) (1.16.0)\n",
      "Requirement already satisfied: MarkupSafe>=2.0 in c:\\users\\dyota\\anaconda3\\envs\\invictus2024\\lib\\site-packages (from jinja2->torch>=1.6.0->sentence-transformers) (2.1.3)\n",
      "Requirement already satisfied: mpmath>=0.19 in c:\\users\\dyota\\anaconda3\\envs\\invictus2024\\lib\\site-packages (from sympy->torch>=1.6.0->sentence-transformers) (1.3.0)\n"
     ]
    }
   ],
   "source": [
    "!pip install -U datasets sentence-transformers pinecone-client tqdm"
   ]
  },
  {
   "cell_type": "markdown",
   "id": "7bb8e8fd",
   "metadata": {
    "id": "7bb8e8fd"
   },
   "source": [
    "# YouTube Indexing and Queries\n",
    "\n",
    "In this notebook we will work through an example of indexing and querying the YouTube video transcriptions data. We start by loading the dataset."
   ]
  },
  {
   "cell_type": "code",
   "execution_count": 2,
   "id": "e43af099",
   "metadata": {
    "colab": {
     "base_uri": "https://localhost:8080/"
    },
    "id": "e43af099",
    "outputId": "cda841cc-95be-4bb2-bc9b-7990a7748918"
   },
   "outputs": [
    {
     "data": {
      "text/plain": [
       "Dataset({\n",
       "    features: ['video_id', 'text', 'start_second', 'end_second', 'url', 'title', 'thumbnail'],\n",
       "    num_rows: 11298\n",
       "})"
      ]
     },
     "execution_count": 2,
     "metadata": {},
     "output_type": "execute_result"
    }
   ],
   "source": [
    "from datasets import load_dataset\n",
    "\n",
    "ytt = load_dataset(\n",
    "    \"pinecone/yt-transcriptions\",\n",
    "    split=\"train\",\n",
    "    revision=\"926a45\"\n",
    ")\n",
    "ytt"
   ]
  },
  {
   "cell_type": "markdown",
   "id": "3db35007",
   "metadata": {
    "id": "3db35007"
   },
   "source": [
    "Each sample includes video-level information (ID, title, url and thumbnail) and snippet-level information (text, start_second, end_second)."
   ]
  },
  {
   "cell_type": "code",
   "execution_count": 3,
   "id": "e6e73d96",
   "metadata": {
    "colab": {
     "base_uri": "https://localhost:8080/"
    },
    "id": "e6e73d96",
    "outputId": "1a807672-e5da-4c52-e10a-6066326a0b42"
   },
   "outputs": [
    {
     "name": "stdout",
     "output_type": "stream",
     "text": [
      "{'video_id': 'ZPewmEu7644', 'text': \" hi this is Jeff Dean welcome to applications of deep neural networks of Washington University in this video we're going to look at how we can use ganz to generate additional training data for the latest on my a I course and projects click subscribe in the bell next to it to be notified of every new video Dan's have a wide array of uses beyond just the face generation that you\", 'start_second': 0, 'end_second': 20, 'url': 'https://www.youtube.com/watch?v=ZPewmEu7644&t=0s', 'title': 'GANS for Semi-Supervised Learning in Keras (7.4)', 'thumbnail': 'https://i.ytimg.com/vi/ZPewmEu7644/maxresdefault.jpg'}\n"
     ]
    }
   ],
   "source": [
    "for x in ytt:\n",
    "    print(x)\n",
    "    break"
   ]
  },
  {
   "cell_type": "markdown",
   "id": "b38004c9",
   "metadata": {
    "id": "b38004c9"
   },
   "source": [
    "# Uploading Documents to Pinecone Index\n",
    "\n",
    "The next step is indexing this dataset in Pinecone, for this we need a sentence transformer model (to encode the text into embeddings), and a Pinecone index.\n",
    "\n",
    "We will initialize the sentence transformer first."
   ]
  },
  {
   "cell_type": "code",
   "execution_count": 4,
   "id": "7f6b8e87",
   "metadata": {
    "id": "7f6b8e87",
    "outputId": "67e7f141-84aa-416c-beee-ccfeefd433f8"
   },
   "outputs": [
    {
     "data": {
      "text/plain": [
       "SentenceTransformer(\n",
       "  (0): Transformer({'max_seq_length': 128, 'do_lower_case': False}) with Transformer model: MPNetModel \n",
       "  (1): Pooling({'word_embedding_dimension': 768, 'pooling_mode_cls_token': False, 'pooling_mode_mean_tokens': True, 'pooling_mode_max_tokens': False, 'pooling_mode_mean_sqrt_len_tokens': False})\n",
       "  (2): Normalize()\n",
       ")"
      ]
     },
     "execution_count": 4,
     "metadata": {},
     "output_type": "execute_result"
    }
   ],
   "source": [
    "from sentence_transformers import SentenceTransformer\n",
    "import torch\n",
    "\n",
    "device = 'cuda' if torch.cuda.is_available() else 'cpu'\n",
    "\n",
    "retriever = SentenceTransformer(\n",
    "    'flax-sentence-embeddings/all_datasets_v3_mpnet-base'\n",
    ")\n",
    "retriever.to(device)"
   ]
  },
  {
   "cell_type": "markdown",
   "id": "a02ff222",
   "metadata": {
    "id": "a02ff222"
   },
   "source": [
    "We can see the embedding dimension of `768` above, we will need this when creating our Pinecone index."
   ]
  },
  {
   "cell_type": "code",
   "execution_count": 5,
   "id": "69fa3db9",
   "metadata": {
    "id": "69fa3db9",
    "outputId": "1b00b6d9-7cb4-409d-f97d-6085ff52d69c"
   },
   "outputs": [
    {
     "data": {
      "text/plain": [
       "768"
      ]
     },
     "execution_count": 5,
     "metadata": {},
     "output_type": "execute_result"
    }
   ],
   "source": [
    "embed_dim = retriever.get_sentence_embedding_dimension()\n",
    "embed_dim"
   ]
  },
  {
   "cell_type": "markdown",
   "id": "bcea76e1",
   "metadata": {
    "id": "bcea76e1"
   },
   "source": [
    "Now we can initialize our index."
   ]
  },
  {
   "cell_type": "code",
   "execution_count": null,
   "id": "fc94564a",
   "metadata": {
    "id": "fc94564a"
   },
   "outputs": [],
   "source": [
    "from pinecone import Pinecone\n",
    "\n",
    "# get api key from app.pinecone.io\n",
    "pinecone = Pinecone(\n",
    "    api_key=\"55e1c7a7-6374-4a46-9650-b075f74e2158\",\n",
    "    environment=\"us-west1-gcp\"\n",
    ")\n",
    "\n",
    "index = pinecone.Index(\"youtube-search\")\n"
   ]
  },
  {
   "cell_type": "code",
   "execution_count": null,
   "id": "82c936e3",
   "metadata": {
    "id": "82c936e3",
    "outputId": "ebf73926-9755-4746-b752-4851376686ad"
   },
   "outputs": [],
   "source": [
    "index.describe_index_stats()"
   ]
  },
  {
   "cell_type": "markdown",
   "id": "317f712a",
   "metadata": {
    "id": "317f712a"
   },
   "source": [
    "# Querying\n",
    "\n",
    "When query we encode our text with the same retriever model and pass it to the Pinecone `query` endpoint."
   ]
  },
  {
   "cell_type": "code",
   "execution_count": null,
   "id": "15668c1b",
   "metadata": {
    "id": "15668c1b"
   },
   "outputs": [],
   "source": [
    "query = \"What is deep learning?\"\n",
    "\n",
    "xq = retriever.encode([query]).tolist()"
   ]
  },
  {
   "cell_type": "code",
   "execution_count": null,
   "id": "c98c5714",
   "metadata": {
    "id": "c98c5714",
    "outputId": "df71be47-eea6-497c-fa51-9b0160a73f2d"
   },
   "outputs": [
    {
     "name": "stdout",
     "output_type": "stream",
     "text": [
      " terms of optimization but what's the algorithm for updating the parameters or updating whatever the state of the network is and then the the last part is the the data set like how do you actually represent the world as it comes into your machine learning system so I think of deep learning as telling us something about what does the model look like and basically to qualify as deep I\n",
      "---\n",
      " any theoretical components any theoretical things that you need to understand about deep learning can be sick later for that link again just watched the word doc file again in that I mentioned the link also the second channel is my channel because deep learning might be complete deep learning playlist that I have created is completely in order okay to the other\n",
      "---\n",
      " under a rock for the last few years you have heard of the deep networks and how they have revolutionised computer vision and kind of the standard classic way of doing this is it's basically a classic supervised learning problem you are giving a network which you can think of as a big black box a pairs of input images and output labels XY pairs okay and this big black box essentially you\n",
      "---\n",
      " do the task at hand. Now deep learning is just a subset of machine learning which takes this idea even a step further and says how can we automatically extract the useful pieces of information needed to inform those future predictions or make a decision And that's what this class is all about teaching algorithms how to learn a task directly from raw data. We want to\n",
      "---\n",
      " algorithm and yelled at everybody in a good way that nobody was answering it correctly everybody knew what the alkyl it was graduate course everybody knew what an algorithm was but they weren't able to answer it well let me ask you in that same spirit what is deep learning I would say deep learning is any kind of machine learning that involves learning parameters of more than one consecutive\n",
      "---\n"
     ]
    }
   ],
   "source": [
    "xc = index.query(vector=xq, top_k=5,\n",
    "                 include_metadata=True)\n",
    "for context in xc['results'][0]['matches']:\n",
    "    print(context['metadata']['text'], end=\"\\n---\\n\")"
   ]
  },
  {
   "attachments": {},
   "cell_type": "markdown",
   "id": "87784173",
   "metadata": {
    "id": "1YY3hiL3xNQ5"
   },
   "source": [
    "# Delete the Index\n",
    "\n",
    "If you're done with the index, we delete it to save resources."
   ]
  },
  {
   "cell_type": "code",
   "execution_count": null,
   "id": "d7707149",
   "metadata": {
    "id": "DnGtG5iaUArB"
   },
   "outputs": [],
   "source": [
    "pinecone.delete_index(\"youtube-search\")"
   ]
  },
  {
   "attachments": {},
   "cell_type": "markdown",
   "id": "ee1b8e27",
   "metadata": {},
   "source": [
    "---"
   ]
  }
 ],
 "metadata": {
  "accelerator": "GPU",
  "colab": {
   "collapsed_sections": [],
   "name": "01_pinecone_yt_search.ipynb",
   "provenance": []
  },
  "kernelspec": {
   "display_name": "Python 3 (ipykernel)",
   "language": "python",
   "name": "python3"
  },
  "language_info": {
   "codemirror_mode": {
    "name": "ipython",
    "version": 3
   },
   "file_extension": ".py",
   "mimetype": "text/x-python",
   "name": "python",
   "nbconvert_exporter": "python",
   "pygments_lexer": "ipython3",
   "version": "3.11.7"
  },
  "vscode": {
   "interpreter": {
    "hash": "b0fa6594d8f4cbf19f97940f81e996739fb7646882a419484c72d19e05852a7e"
   }
  },
  "widgets": {
   "application/vnd.jupyter.widget-state+json": {}
  }
 },
 "nbformat": 4,
 "nbformat_minor": 5
}
